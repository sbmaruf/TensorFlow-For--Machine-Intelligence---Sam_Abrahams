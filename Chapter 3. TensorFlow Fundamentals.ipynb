{
 "cells": [
  {
   "cell_type": "markdown",
   "metadata": {},
   "source": [
    "# Chapter 3. TensorFlow Fundamentals"
   ]
  },
  {
   "cell_type": "markdown",
   "metadata": {},
   "source": [
    "#### coding followign graph\n",
    "<img src=\"./Images/g1.png\">"
   ]
  },
  {
   "cell_type": "code",
   "execution_count": 12,
   "metadata": {
    "collapsed": true
   },
   "outputs": [],
   "source": [
    "import tensorflow as tf"
   ]
  },
  {
   "cell_type": "code",
   "execution_count": 13,
   "metadata": {
    "collapsed": true
   },
   "outputs": [],
   "source": [
    "a = tf.constant(5,name=\"input_a\")"
   ]
  },
  {
   "cell_type": "code",
   "execution_count": 14,
   "metadata": {
    "collapsed": true
   },
   "outputs": [],
   "source": [
    "b = tf.constant(3,name=\"input_b\")\n",
    "c = tf.multiply(a,b,name=\"mul_c\")\n",
    "d = tf.add(a,b,name=\"add_d\")\n",
    "e = tf.add(c,d,name=\"add_e\")"
   ]
  },
  {
   "cell_type": "code",
   "execution_count": 15,
   "metadata": {
    "collapsed": true
   },
   "outputs": [],
   "source": [
    "sess = tf.Session()\n",
    "sess.run(e)\n",
    "writer = tf.summary.FileWriter('./my_graph', sess.graph)\n",
    "#tensorboard --logdir=\"my_graph\" #write at the terminal\n",
    "writer.close()\n",
    "sess.close()"
   ]
  },
  {
   "cell_type": "markdown",
   "metadata": {},
   "source": [
    "## tensorflow data types\n",
    "+ **tf.float32** 32-bit floating point\n",
    "+ **tf.float64** 64-bit floating point\n",
    "+ **tf.int8** 8-bit signed integer\n",
    "+ **tf.int16** 16-bit signed integer\n",
    "+ **tf.int32** 32-bit signed integer\n",
    "+ **tf.int64** 64-bit signed integer\n",
    "+ **tf.uint8** 8-bit unsigned integer\n",
    "+ **tf.string** String (as bytes array, not Unicode)\n",
    "+ **tf.bool** Boolean\n",
    "+ **tf.complex64** Complex number, with 32-bit floating point real portion, and 32-bit floating point imaginary portion\n",
    "+ **tf.qint8** 8-bit signed integer (used in quantized Operations)\n",
    "+ **tf.qint32** 32-bit signed integer (used in quantized Operations)\n",
    "+ **tf.quint8** 8-bit unsigned integer (used in quantized Operations)"
   ]
  },
  {
   "cell_type": "markdown",
   "metadata": {
    "collapsed": true
   },
   "source": [
    "#### coding followign graph\n",
    "<img src=\"./Images/g2.png\">\n"
   ]
  },
  {
   "cell_type": "code",
   "execution_count": 16,
   "metadata": {
    "collapsed": true
   },
   "outputs": [],
   "source": [
    "a = tf.constant([5,3],name=\"input_a\")\n",
    "b = tf.reduce_prod(a,name=\"prod_b\")\n",
    "c = tf.reduce_sum(a,name=\"sum_c\")\n",
    "d = tf.add(b,c,name=\"add_d\")"
   ]
  },
  {
   "cell_type": "code",
   "execution_count": 17,
   "metadata": {
    "collapsed": true
   },
   "outputs": [],
   "source": [
    "t_0 = 50\n",
    "t_1 = [b\"apple\",b\"peach\",b\"grape\"]\n",
    "t_2 =  [[True,False,False],\n",
    "        [False,False,True],\n",
    "        [True,False,True]]"
   ]
  },
  {
   "cell_type": "code",
   "execution_count": 18,
   "metadata": {
    "collapsed": true
   },
   "outputs": [],
   "source": [
    "# Shapes that specify a 0-D Tensor (scalar)\n",
    "# e.g. any single number: 7, 1, 3, 4, etc.\n",
    "s_0_list = []\n",
    "s_0_tuple = ()\n",
    "# Shape that describes a vector of length 3\n",
    "# e.g. [1, 2, 3]\n",
    "s_1 = [3]\n",
    "# Shape that describes a 3-by-2 matrix\n",
    "# e.g [[1 ,2],\n",
    "# [3, 4],\n",
    "# [5, 6]]\n",
    "s_2 = (3, 2)"
   ]
  },
  {
   "cell_type": "code",
   "execution_count": 19,
   "metadata": {},
   "outputs": [],
   "source": [
    "import tensorflow as tf\n",
    "import numpy as np\n",
    "\n",
    "a = np.array([ 2 , 3 ],dtype = np.int32)\n",
    "b = np.array([ 4 , 5 ], dtype = np.int32)\n",
    "c = tf.add( a , b , name=\"my_add_op\" )"
   ]
  },
  {
   "cell_type": "markdown",
   "metadata": {},
   "source": [
    "<img src=\"./Images/g2.png\">\n",
    "## tensorflow operators\n",
    "+ **-x** **tf.neg()** Returns the negative value of each element in x\n",
    "+ **~x** **tf.logical_not()** Returns the logical NOT of each element in x. Only compatible with Tensor objects with dtype of tf.bool \n",
    "+ **abs(x)** **tf.abs()** Returns the absolute value of each element in x\n",
    "+ **x + y** **tf.add()** Add x and y, element-wise\n",
    "+ **x - y** **tf.sub()** Subtract y from x, element-wise\n",
    "+ **x * y** **tf.mul()** Multiply x and y, element-wise\n",
    "+ **x / y** (Python 2) **tf.div()** Will perform element-wise integer division when given an integer type tensor, and floating point (“true”) division on floating point tensors\n",
    "+ **x / y** (Python 3) **tf.truediv()** Element-wise floating point division (including on integers)\n",
    "+ **x // y** (Python 3) **tf.floordiv()** Element-wise floor division, not returning any remainder from the computation\n",
    "+ **x % y** tf.mod() Element-wise modulo \n",
    "+ **x puthon double star y** **tf.pow()** The result of raising each element in x to its corresponding element y, element-wise\n",
    "+ **x < y** tf.less() Returns the truth table of x < y, element-wise\n",
    "+ **x <= y** **tf.less_equal()** Returns the truth table of x <= y, element-wise\n",
    "+ **x > y** tf.greater() Returns the truth table of x > y, element-wise\n",
    "+ **x >= y** tf.greater_equal() Returns the truth table of x >= y, element-wise\n",
    "+ **x & y** **tf.logical_and()** Returns the truth table of x & y, element-wise. dtype must be tf.bool\n",
    "+ **x | y** **tf.logical_or()** Returns the truth table of x | y, element-wise. dtype must be tf.bool\n",
    "+ **x ^ y** **tf.logical_xor()** Returns the truth table of x ^ y, element-wise. dtype must be tf.bool"
   ]
  },
  {
   "cell_type": "markdown",
   "metadata": {},
   "source": [
    "## tensorflow graph"
   ]
  },
  {
   "cell_type": "code",
   "execution_count": 20,
   "metadata": {
    "collapsed": true
   },
   "outputs": [],
   "source": [
    "g = tf.Graph()"
   ]
  },
  {
   "cell_type": "code",
   "execution_count": 21,
   "metadata": {
    "collapsed": true
   },
   "outputs": [],
   "source": [
    "with g.as_default():\n",
    "    a = tf.multiply(2,3)\n",
    "    \n",
    "in_default_graph = tf.add(1,2)\n",
    "with g.as_default():\n",
    "    in_graph_g = tf.multiply(2,3)\n",
    "also_in_default_graph = tf.subtract(5,1)\n",
    "default_graph = tf.get_default_graph()"
   ]
  },
  {
   "cell_type": "markdown",
   "metadata": {},
   "source": [
    "### Correct"
   ]
  },
  {
   "cell_type": "code",
   "execution_count": 22,
   "metadata": {
    "collapsed": true
   },
   "outputs": [],
   "source": [
    "import tensorflow as tf\n",
    "g1 = tf.Graph()\n",
    "g2 = tf.Graph()\n",
    "with g1.as_default():\n",
    "    # Define g1 Operations, tensors, etc.\n",
    "    ...\n",
    "with g2.as_default():\n",
    "    # Define g2 Operations, tensors, etc.\n",
    "    ..."
   ]
  },
  {
   "cell_type": "code",
   "execution_count": 23,
   "metadata": {
    "collapsed": true
   },
   "outputs": [],
   "source": [
    "import tensorflow as tf\n",
    "g1 = tf.get_default_graph()\n",
    "g2 = tf.Graph()\n",
    "with g1.as_default():\n",
    "    # Define g1 Operations, tensors, etc.\n",
    "    ...\n",
    "with g2.as_default():\n",
    "    # Define g2 Operations, tensors, etc.\n",
    "    ..."
   ]
  },
  {
   "cell_type": "markdown",
   "metadata": {},
   "source": [
    "### Incorrect"
   ]
  },
  {
   "cell_type": "code",
   "execution_count": 24,
   "metadata": {
    "collapsed": true
   },
   "outputs": [],
   "source": [
    "import tensorflow as tf\n",
    "g2 = tf.Graph()\n",
    "# Define default graph Operations, tensors, etc.\n",
    "...\n",
    "with g2.as_default():\n",
    "    # Define g2 Operations, tensors, etc.\n",
    "    ..."
   ]
  },
  {
   "cell_type": "markdown",
   "metadata": {},
   "source": [
    "Additionally, it is possible to load in previously defined models from other TensorFlow scripts and assign them to Graph objects using a combination of the **Graph.as_graph_def()** and **tf.import_graph_def** functions"
   ]
  },
  {
   "cell_type": "markdown",
   "metadata": {},
   "source": [
    "## tensorflow Session"
   ]
  },
  {
   "cell_type": "code",
   "execution_count": 25,
   "metadata": {},
   "outputs": [
    {
     "name": "stdout",
     "output_type": "stream",
     "text": [
      "7 10\n"
     ]
    }
   ],
   "source": [
    "import tensorflow as tf\n",
    "\n",
    "a = tf.add(2,5)\n",
    "b = tf.add(a,3)\n",
    "\n",
    "sess = tf.Session()\n",
    "c,d = sess.run([a, b])\n",
    "# identical sess = tf.Session(graph=tf.get_default_graph())\n",
    "# print(sess.run(b))\n",
    "# print(sess.run(a))\n",
    "print(c,d)"
   ]
  },
  {
   "cell_type": "markdown",
   "metadata": {},
   "source": [
    "## feed dictionary\n",
    " Because the value of a tensor is provided up front, the graph no longer needs to compute any of the tensor’s normal dependencies. This means that if you have a large graph and want to test out part of it with dummy values, TensorFlow won’t waste time with unnecessary computations."
   ]
  },
  {
   "cell_type": "code",
   "execution_count": 26,
   "metadata": {},
   "outputs": [
    {
     "data": {
      "text/plain": [
       "45"
      ]
     },
     "execution_count": 26,
     "metadata": {},
     "output_type": "execute_result"
    }
   ],
   "source": [
    "import tensorflow as tf\n",
    "a = tf.add(2,5)\n",
    "b = tf.multiply(a,3)\n",
    "sess = tf.Session()\n",
    "replace_dict = {a: 15}\n",
    "\n",
    "sess.run( b , feed_dict=replace_dict )"
   ]
  },
  {
   "cell_type": "markdown",
   "metadata": {},
   "source": [
    "## placeholder"
   ]
  },
  {
   "cell_type": "code",
   "execution_count": 27,
   "metadata": {},
   "outputs": [
    {
     "data": {
      "text/plain": [
       "23"
      ]
     },
     "execution_count": 27,
     "metadata": {},
     "output_type": "execute_result"
    }
   ],
   "source": [
    "import tensorflow as tf\n",
    "import numpy as np\n",
    "\n",
    "a = tf.placeholder(tf.int32, shape=[2], name = \"mu_input\")\n",
    "\n",
    "b = tf.reduce_prod(a,name=\"prod_b\")\n",
    "c = tf.reduce_sum(a, name=\"sum_c\")\n",
    "d = tf.add(b, c, name = \"add_d\")\n",
    "\n",
    "tf.Session()\n",
    "\n",
    "input_dict = {a : np.array([5,3],dtype=np.int32)}\n",
    "sess.run(d,feed_dict=input_dict)"
   ]
  },
  {
   "cell_type": "markdown",
   "metadata": {},
   "source": [
    "## Variable"
   ]
  },
  {
   "cell_type": "code",
   "execution_count": 28,
   "metadata": {
    "collapsed": true
   },
   "outputs": [],
   "source": [
    "import tensorflow as tf\n",
    "\n",
    "my_var = tf.Variable(3, name=\"tf.variable\")\n",
    "add = tf.add(5, my_var)\n",
    "mul = tf.multiply(8,my_var)\n",
    "\n",
    "# 2x2 matrix of zeros\n",
    "zeros = tf.zeros([2, 2])\n",
    "# vector of length 6 of ones\n",
    "ones = tf.ones([6])\n",
    "# 3x3x3 Tensor of random uniform values between 0 and 10\n",
    "uniform = tf.random_uniform([3, 3, 3], minval=0, maxval=10)\n",
    "# 3x3x3 Tensor of normally distributed numbers; mean 0 and standard deviation 2\n",
    "normal = tf.random_normal([3, 3, 3], mean=0.0, stddev=2.0)\n",
    "# No values below 3.0 or above 7.0 will be returned in this Tensor\n",
    "trunc = tf.truncated_normal([2, 2], mean=5.0, stddev=1.0)\n",
    "# Default value of mean=0.0\n",
    "# Default value of stddev=1.0\n",
    "random_var = tf.Variable(tf.truncated_normal([2, 2]))"
   ]
  },
  {
   "cell_type": "code",
   "execution_count": 29,
   "metadata": {},
   "outputs": [
    {
     "name": "stdout",
     "output_type": "stream",
     "text": [
      "WARNING:tensorflow:From /home/sbmaruf/anaconda3/lib/python3.6/site-packages/tensorflow/python/util/tf_should_use.py:175: initialize_all_variables (from tensorflow.python.ops.variables) is deprecated and will be removed after 2017-03-02.\n",
      "Instructions for updating:\n",
      "Use `tf.global_variables_initializer` instead.\n"
     ]
    }
   ],
   "source": [
    "my_var = tf.Variable(1)\n",
    "my_var_times_two = my_var.assign( my_var*2 )\n",
    "init = tf.initialize_all_variables()\n",
    "\n",
    "sess = tf.Session()\n",
    "sess.run(init)\n"
   ]
  },
  {
   "cell_type": "code",
   "execution_count": 30,
   "metadata": {},
   "outputs": [
    {
     "data": {
      "text/plain": [
       "2"
      ]
     },
     "execution_count": 30,
     "metadata": {},
     "output_type": "execute_result"
    }
   ],
   "source": [
    "sess.run(my_var_times_two)\n"
   ]
  },
  {
   "cell_type": "code",
   "execution_count": 31,
   "metadata": {},
   "outputs": [
    {
     "data": {
      "text/plain": [
       "4"
      ]
     },
     "execution_count": 31,
     "metadata": {},
     "output_type": "execute_result"
    }
   ],
   "source": [
    "sess.run(my_var_times_two)\n"
   ]
  },
  {
   "cell_type": "code",
   "execution_count": 32,
   "metadata": {},
   "outputs": [
    {
     "data": {
      "text/plain": [
       "8"
      ]
     },
     "execution_count": 32,
     "metadata": {},
     "output_type": "execute_result"
    }
   ],
   "source": [
    "sess.run(my_var_times_two)"
   ]
  },
  {
   "cell_type": "code",
   "execution_count": 33,
   "metadata": {},
   "outputs": [
    {
     "name": "stdout",
     "output_type": "stream",
     "text": [
      "WARNING:tensorflow:From /home/sbmaruf/anaconda3/lib/python3.6/site-packages/tensorflow/python/util/tf_should_use.py:175: initialize_all_variables (from tensorflow.python.ops.variables) is deprecated and will be removed after 2017-03-02.\n",
      "Instructions for updating:\n",
      "Use `tf.global_variables_initializer` instead.\n"
     ]
    }
   ],
   "source": [
    "my_var = tf.Variable(0)\n",
    "init = tf.initialize_all_variables()\n"
   ]
  },
  {
   "cell_type": "code",
   "execution_count": 34,
   "metadata": {
    "collapsed": true
   },
   "outputs": [],
   "source": [
    "sess1 = tf.Session()\n",
    "sess2 = tf.Session()"
   ]
  },
  {
   "cell_type": "code",
   "execution_count": 35,
   "metadata": {
    "collapsed": true
   },
   "outputs": [],
   "source": [
    "sess1.run(init)"
   ]
  },
  {
   "cell_type": "code",
   "execution_count": 36,
   "metadata": {},
   "outputs": [
    {
     "data": {
      "text/plain": [
       "5"
      ]
     },
     "execution_count": 36,
     "metadata": {},
     "output_type": "execute_result"
    }
   ],
   "source": [
    "sess1.run(my_var.assign_add(5))"
   ]
  },
  {
   "cell_type": "code",
   "execution_count": 37,
   "metadata": {
    "collapsed": true
   },
   "outputs": [],
   "source": [
    "sess2.run(init)"
   ]
  },
  {
   "cell_type": "code",
   "execution_count": 38,
   "metadata": {},
   "outputs": [
    {
     "data": {
      "text/plain": [
       "2"
      ]
     },
     "execution_count": 38,
     "metadata": {},
     "output_type": "execute_result"
    }
   ],
   "source": [
    "sess2.run(my_var.assign_add(2))"
   ]
  },
  {
   "cell_type": "code",
   "execution_count": 39,
   "metadata": {},
   "outputs": [
    {
     "data": {
      "text/plain": [
       "10"
      ]
     },
     "execution_count": 39,
     "metadata": {},
     "output_type": "execute_result"
    }
   ],
   "source": [
    "sess1.run(my_var.assign_add(5))"
   ]
  },
  {
   "cell_type": "code",
   "execution_count": 40,
   "metadata": {},
   "outputs": [
    {
     "data": {
      "text/plain": [
       "4"
      ]
     },
     "execution_count": 40,
     "metadata": {},
     "output_type": "execute_result"
    }
   ],
   "source": [
    "sess2.run(my_var.assign_add(2))"
   ]
  },
  {
   "cell_type": "code",
   "execution_count": 41,
   "metadata": {},
   "outputs": [
    {
     "name": "stdout",
     "output_type": "stream",
     "text": [
      "WARNING:tensorflow:From /home/sbmaruf/anaconda3/lib/python3.6/site-packages/tensorflow/python/util/tf_should_use.py:175: initialize_all_variables (from tensorflow.python.ops.variables) is deprecated and will be removed after 2017-03-02.\n",
      "Instructions for updating:\n",
      "Use `tf.global_variables_initializer` instead.\n",
      "10\n",
      "0\n",
      "0\n",
      "15\n"
     ]
    }
   ],
   "source": [
    "my_var = tf.Variable(0)\n",
    "init = tf.initialize_all_variables()\n",
    "tf.Session()\n",
    "sess.run(init)\n",
    "print(sess.run(my_var.assign(10)))\n",
    "sess.run(init)\n",
    "print(sess.run(my_var))\n",
    "\n",
    "my_var.assign(15)\n",
    "sess.run(init)\n",
    "my_var.assign(15)\n",
    "print(sess.run(my_var))\n",
    "\n",
    "sess.run(init)\n",
    "print(sess.run(my_var.assign(15)))"
   ]
  },
  {
   "cell_type": "code",
   "execution_count": 42,
   "metadata": {
    "collapsed": true
   },
   "outputs": [],
   "source": [
    "not_trainable = tf.Variable(0, trainable=False)"
   ]
  },
  {
   "cell_type": "markdown",
   "metadata": {},
   "source": [
    "## tf scope\n",
    "\n",
    "#### See code segment below in the tensorboard\n"
   ]
  },
  {
   "cell_type": "code",
   "execution_count": 43,
   "metadata": {
    "collapsed": true
   },
   "outputs": [],
   "source": [
    "import tensorflow as tf\n",
    "\n",
    "tf.reset_default_graph()\n",
    "with tf.name_scope(\"Scope_A\"):\n",
    "    a = tf.add(1, 2, name=\"A_add\")\n",
    "    b = tf.multiply(a, 3, name=\"A_mul\")\n",
    "\n",
    "with tf.name_scope(\"Scope_B\"):\n",
    "    c = tf.add(4, 5, name=\"B_add\")\n",
    "    d = tf.multiply(c, 6, name=\"B_mul\")\n",
    "\n",
    "e = tf.add(b, d, name=\"output\")\n",
    "\n",
    "writer = tf.summary.FileWriter('./name_scope_1', graph=tf.get_default_graph())\n",
    "writer.close()"
   ]
  },
  {
   "cell_type": "markdown",
   "metadata": {},
   "source": [
    "### be careful about graph space in tensorflow. if you work with default graph always call this function before staring work,\n",
    "\n",
    "\n",
    "+ ##### tf.reset_default_graph()"
   ]
  },
  {
   "cell_type": "code",
   "execution_count": 44,
   "metadata": {
    "collapsed": true
   },
   "outputs": [],
   "source": [
    "import tensorflow as tf\n",
    "\n",
    "tf.reset_default_graph()\n",
    "my_graph = tf.Graph()\n",
    "with my_graph.as_default():\n",
    "    in_1 = tf.placeholder(tf.float32, shape=[], name=\"input_a\")\n",
    "    in_2 = tf.placeholder(tf.float32, shape=[], name=\"input_b\")\n",
    "    const = tf.constant(3,dtype=tf.float32,name=\"static_value\")\n",
    "\n",
    "    with tf.name_scope(\"Transformation\"):\n",
    "        with tf.name_scope(\"A\"):\n",
    "            A_mul = tf.multiply(in_1, const,name=\"A_const_mul\")\n",
    "            A_out = tf.subtract(A_mul, in_1,name=\"A_input_sub\")\n",
    "            #A_out1 = tf.subtract(A_mul, in_2,name=\"A_input_b_sub\")\n",
    "        with tf.name_scope(\"B\"):\n",
    "            B_mul = tf.multiply(in_2,const,name=\"B_const_mul\")\n",
    "            B_out = tf.subtract(B_mul, in_2,name=\"A_input_sub\")\n",
    "           #B_out1 = tf.subtract(B_mul, in_1,name=\"B_input_a_sub\")\n",
    "        with tf.name_scope(\"C\"):\n",
    "            C_div = tf.div(A_out, B_out,name=\"A_B_div\")\n",
    "            C_out = tf.add(C_div, const,name=\"C_const_div\")\n",
    "        with tf.name_scope(\"D\"):\n",
    "            D_div = tf.div(B_out, A_out,name=\"B_out_A_out_div\")\n",
    "            D_out = tf.add(D_div,const,name=\"D_div_const_div\")\n",
    "    out = tf.maximum(C_out,D_out,name=\"C_out_maximum_D_out\")\n",
    "writer = tf.summary.FileWriter('./name_scope_2',graph=my_graph)\n",
    "writer.close()"
   ]
  },
  {
   "cell_type": "markdown",
   "metadata": {},
   "source": [
    "## tensorflow : few points when implementing models\n",
    "\n",
    "+ Our inputs will be placeholders instead of tf.constant nodes\n",
    "+ Instead of taking two discrete scalar inputs, our model will take in a single vector of any length\n",
    "+ We’re going to accumulate the total value of all outputs over time as we use the graph\n",
    "+ The graph will be segmented nicely with name scopes\n",
    "+ After each run, we are going to save the output of the graph, the accumulated total of all outputs, and the average value of all outputs to disk for use in TensorBoard\n",
    "\n",
    "<img src=\"./Images/g3.png\">\n",
    "\n",
    "\n",
    "#####Here are the key things to note about reading this model:\n",
    "\n",
    "+ Notice how each edge now has either a **[None]** or **[]** icon next to it. This represents the TensorFlow shape of the tensor flowing through that edge, with **None** representing a vector of any length, and **[]** representing a scalar.\n",
    "+ The output of node **d** now flows into an “**update**” section, which contains Operations necessary to update Variables as well as pass data through to the TensorBoard summaries.\n",
    "+ We have a separate name scope to contain our two Variables- one to store the accumulated sum of our outputs, the other to keep track of how many times we’ve run the graph. Since these two Variables operate outside of the flow of our main transformation, it makes sense to put them in a separate space.\n",
    "+ There is a name scope dedicated to our TensorBoard summaries which will hold our tf.scalar_summary Operations. We place them after the “update” section to ensure that the summaries are added after we update our Variables, otherwise things could run out of order."
   ]
  },
  {
   "cell_type": "code",
   "execution_count": 45,
   "metadata": {
    "collapsed": true
   },
   "outputs": [],
   "source": [
    "import tensorflow as tf\n",
    "\n",
    "my_graph = tf.Graph()\n",
    "with my_graph.as_default():\n",
    "    with tf.name_scope(\"variables\"):\n",
    "        global_steps = tf.Variable(0,dtype=tf.int32, trainable= False, name =\"global_step\")\n",
    "        total_outputs = tf.Variable(0.0,dtype=tf.float32,trainable=False,name=\"total_output\")\n",
    "    with tf.name_scope(\"transformation\"):\n",
    "        with tf.name_scope(\"input\"):\n",
    "            a = tf.placeholder(tf.float32, shape=[None], name='input_placeholder_a')\n",
    "        with tf.name_scope(\"interactive_layer\"):\n",
    "            b = tf.reduce_prod(a, name=\"profuct_b\")\n",
    "            c = tf.reduce_sum(a,name=\"sum_c\")\n",
    "        with tf.name_scope(\"output\"):\n",
    "            output = tf.add(b,c,name=\"output\")\n",
    "    with tf.name_scope(\"update\"):\n",
    "        sum_of_outputs = total_outputs.assign_add(output)\n",
    "        number_of_steps = global_steps.assign_add(1)\n",
    "    with tf.name_scope(\"summaries\"):\n",
    "        avg = tf.div(sum_of_outputs, tf.cast(number_of_steps, tf.float32), name = \"average\")\n",
    "        tf.summary.scalar('Output', output)\n",
    "        tf.summary.scalar('Sum_of_outputs_over_time', sum_of_outputs)\n",
    "        tf.summary.scalar('Average_of_outputs_over_time', avg)\n",
    "    with tf.name_scope(\"global_ops\"):\n",
    "        init = tf.global_variables_initializer()\n",
    "        merged_summaries = tf.summary.merge_all()"
   ]
  },
  {
   "cell_type": "code",
   "execution_count": 46,
   "metadata": {
    "collapsed": true
   },
   "outputs": [],
   "source": [
    "sess = tf.Session(graph=my_graph)\n",
    "writer = tf.summary.FileWriter('./improved_graph', my_graph)"
   ]
  },
  {
   "cell_type": "code",
   "execution_count": 47,
   "metadata": {
    "collapsed": true
   },
   "outputs": [],
   "source": [
    "sess.run(init)"
   ]
  },
  {
   "cell_type": "code",
   "execution_count": 48,
   "metadata": {
    "collapsed": true
   },
   "outputs": [],
   "source": [
    "def run_graph(input_tensor):\n",
    "    feed_dict = {a:input_tensor}\n",
    "    _,step, summary = sess.run([output,number_of_steps,merged_summaries],feed_dict=feed_dict)\n",
    "    writer.add_summary(summary,global_step=step)"
   ]
  },
  {
   "cell_type": "code",
   "execution_count": 49,
   "metadata": {
    "collapsed": true
   },
   "outputs": [],
   "source": [
    "run_graph([2,8])\n",
    "run_graph([3,1,3,3])\n",
    "run_graph([8])\n",
    "run_graph([1,2,3])\n",
    "run_graph([11,4])\n",
    "run_graph([4,1])\n",
    "run_graph([7,3,1])\n",
    "run_graph([6,3])\n",
    "run_graph([0,2])\n",
    "run_graph([4,5,6])"
   ]
  },
  {
   "cell_type": "code",
   "execution_count": 50,
   "metadata": {},
   "outputs": [],
   "source": [
    "writer.flush()\n",
    "writer.close()\n",
    "sess.close()"
   ]
  },
  {
   "cell_type": "code",
   "execution_count": 53,
   "metadata": {},
   "outputs": [],
   "source": [
    "import tensorflow as tf\n",
    "\n"
   ]
  },
  {
   "cell_type": "code",
   "execution_count": null,
   "metadata": {
    "collapsed": true
   },
   "outputs": [],
   "source": []
  }
 ],
 "metadata": {
  "kernelspec": {
   "display_name": "Python 3",
   "language": "python",
   "name": "python3"
  },
  "language_info": {
   "codemirror_mode": {
    "name": "ipython",
    "version": 3
   },
   "file_extension": ".py",
   "mimetype": "text/x-python",
   "name": "python",
   "nbconvert_exporter": "python",
   "pygments_lexer": "ipython3",
   "version": "3.6.1"
  }
 },
 "nbformat": 4,
 "nbformat_minor": 2
}
