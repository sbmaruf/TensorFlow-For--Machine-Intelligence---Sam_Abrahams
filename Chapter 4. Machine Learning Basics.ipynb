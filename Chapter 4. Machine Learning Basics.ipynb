{
 "cells": [
  {
   "cell_type": "markdown",
   "metadata": {},
   "source": [
    "# Chapter 4. Machine Learning Basics"
   ]
  },
  {
   "cell_type": "markdown",
   "metadata": {},
   "source": [
    "<img src=\"./Images/g4.png\">"
   ]
  },
  {
   "cell_type": "code",
   "execution_count": 4,
   "metadata": {},
   "outputs": [
    {
     "ename": "IndentationError",
     "evalue": "expected an indented block (<ipython-input-4-13fb426fa2f1>, line 9)",
     "output_type": "error",
     "traceback": [
      "\u001b[0;36m  File \u001b[0;32m\"<ipython-input-4-13fb426fa2f1>\"\u001b[0;36m, line \u001b[0;32m9\u001b[0m\n\u001b[0;31m    def loxx(X,Y)\u001b[0m\n\u001b[0m      ^\u001b[0m\n\u001b[0;31mIndentationError\u001b[0m\u001b[0;31m:\u001b[0m expected an indented block\n"
     ]
    }
   ],
   "source": [
    "import tensorflow as tf\n",
    "\n",
    "#initialize variable and model parameters\n",
    "\n",
    "#define the training loop operation\n",
    "def inference(X):\n",
    "    #compute inference model over data X and return the result\n",
    "\n",
    "def loss(X,Y)\n",
    "    #compute loss over training data X and expected output Y\n",
    "\n",
    "def train(total_loss):\n",
    "    #train or adjust model parameters according to computed total loss\n",
    "\n",
    "def evaluate(sess, X, Y)\n",
    "    #evaluate the resulting trained model\n",
    "\n",
    "saver = tf.traing.Saver()\n",
    "#launch the graph in session, setup boilerplate\n",
    "with tf.Session() as sess:\n",
    "    \n",
    "    tf.initialize_all_variables.run()\n",
    "    X, Y = input()\n",
    "    \n",
    "    total_loss = loss(X,Y)\n",
    "    train_op = train(total_loss)\n",
    "    \n",
    "    coord = tf.train.Coordinator()\n",
    "    threads = tf.train.start_queue_runner(sess=sess,coord=coord)\n",
    "    \n",
    "    #actual training loop\n",
    "    training_step  = 10000\n",
    "    for step i in range(training_step):\n",
    "        sess.run([]training_op)\n",
    "        #for debugging nad learning purpose, see how the loss gets decremented through training preocess\n",
    "        if( step % 10 == 0 ):\n",
    "            print( \"loss %f\"% sess.run([total_loss]) )\n",
    "        if( step % 1000 == 0 ):\n",
    "            saver.save(sess,'my-model_name', global_step=step )\n",
    "    \n",
    "    evaluate(sess,X,Y)\n",
    "    coord.request.stop()\n",
    "    coord.join(threads)\n",
    "    \n",
    "    saver.save(sess,'my_model', global_step=training_step)\n",
    "\n",
    "    sess.close()"
   ]
  },
  {
   "cell_type": "code",
   "execution_count": null,
   "metadata": {
    "collapsed": true
   },
   "outputs": [],
   "source": [
    "with tf.Session() as sess:\n",
    "    # model setup\n",
    "    initial step = 0 \n",
    "    \n",
    "    #varify if we don't have a checkpoint saved already\n",
    "    ckpt = tf.train.get_checkpoint_state(os.path.dirname(__file__))\n",
    "    if ckpt and ckpt.model_checkpoint_path:\n",
    "        #restore from checkpoint\n",
    "        saver.restore(sess,ckpt.model_checkpoint_path)\n",
    "        initial_step = int(ckpt.model_checkpoint_path.rsplit('-',1)[1])\n",
    "\n",
    "    #actual training loop\n",
    "    for step in range(initial_step, training_step):\n",
    "        ...\n",
    "        \n",
    "        "
   ]
  },
  {
   "cell_type": "code",
   "execution_count": null,
   "metadata": {
    "collapsed": true
   },
   "outputs": [],
   "source": []
  },
  {
   "cell_type": "code",
   "execution_count": null,
   "metadata": {
    "collapsed": true
   },
   "outputs": [],
   "source": []
  },
  {
   "cell_type": "code",
   "execution_count": null,
   "metadata": {
    "collapsed": true
   },
   "outputs": [],
   "source": []
  },
  {
   "cell_type": "code",
   "execution_count": null,
   "metadata": {
    "collapsed": true
   },
   "outputs": [],
   "source": []
  },
  {
   "cell_type": "code",
   "execution_count": null,
   "metadata": {
    "collapsed": true
   },
   "outputs": [],
   "source": []
  },
  {
   "cell_type": "code",
   "execution_count": null,
   "metadata": {
    "collapsed": true
   },
   "outputs": [],
   "source": []
  },
  {
   "cell_type": "code",
   "execution_count": null,
   "metadata": {
    "collapsed": true
   },
   "outputs": [],
   "source": []
  },
  {
   "cell_type": "code",
   "execution_count": null,
   "metadata": {
    "collapsed": true
   },
   "outputs": [],
   "source": []
  },
  {
   "cell_type": "code",
   "execution_count": null,
   "metadata": {
    "collapsed": true
   },
   "outputs": [],
   "source": []
  },
  {
   "cell_type": "code",
   "execution_count": null,
   "metadata": {
    "collapsed": true
   },
   "outputs": [],
   "source": []
  },
  {
   "cell_type": "code",
   "execution_count": null,
   "metadata": {
    "collapsed": true
   },
   "outputs": [],
   "source": []
  },
  {
   "cell_type": "code",
   "execution_count": null,
   "metadata": {
    "collapsed": true
   },
   "outputs": [],
   "source": []
  },
  {
   "cell_type": "code",
   "execution_count": null,
   "metadata": {
    "collapsed": true
   },
   "outputs": [],
   "source": []
  },
  {
   "cell_type": "code",
   "execution_count": null,
   "metadata": {
    "collapsed": true
   },
   "outputs": [],
   "source": []
  }
 ],
 "metadata": {
  "kernelspec": {
   "display_name": "Python 3",
   "language": "python",
   "name": "python3"
  },
  "language_info": {
   "codemirror_mode": {
    "name": "ipython",
    "version": 3
   },
   "file_extension": ".py",
   "mimetype": "text/x-python",
   "name": "python",
   "nbconvert_exporter": "python",
   "pygments_lexer": "ipython3",
   "version": "3.6.1"
  }
 },
 "nbformat": 4,
 "nbformat_minor": 2
}
